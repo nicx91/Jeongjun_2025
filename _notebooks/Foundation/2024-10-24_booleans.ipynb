{
 "cells": [
  {
   "cell_type": "markdown",
   "metadata": {},
   "source": [
    "# Javascript Booleans\n",
    "<hr>\n"
   ]
  },
  {
   "cell_type": "markdown",
   "metadata": {},
   "source": [
    "## Introduction\n",
    "Relational operators in JavaScript are used to compare two values, returning a Boolean value (true or false) based on the relationship. Relational operators are extremley similar to math functions such as less than or equal too."
   ]
  },
  {
   "cell_type": "markdown",
   "metadata": {},
   "source": [
    "## Relational Operators\n",
    "##### These codes determine the true or false\n",
    "- <p>== : Equal to, checks if two values are the same (e.g., verifying a password match).<p>\n",
    "- <p>!= : Not equal to, checks if two values are different (e.g., ensuring input changes).<p>\n",
    "- <p>=== : Strict equal to, checks equality and type (e.g., validating exact user ID).<p>\n",
    "- <p>!== : Strict not equal to, checks inequality and type (e.g., ensuring different type or value).<p>\n",
    "- <p>> : Greater than, left value is larger than the right (e.g., comparing scores or ages).<p>\n",
    "- <p>< : Less than, left value is smaller than the right (e.g., setting age limits).<p>\n",
    "- <p>>= : Greater than or equal to, left value is larger or equal (e.g., minimum age validation).<p>\n",
    "- <p><= : Less than or equal to, left value is smaller or equal (e.g., ensuring max quantity in cart).<p>"
   ]
  },
  {
   "cell_type": "code",
<<<<<<< HEAD
<<<<<<< HEAD
   "execution_count": 3,
=======
   "execution_count": 18,
>>>>>>> 68c5854 (boolean changed)
=======
   "execution_count": null,
>>>>>>> bb6f73b (homework done)
   "metadata": {},
   "outputs": [
    {
     "data": {
<<<<<<< HEAD
<<<<<<< HEAD
      "application/javascript": "let isLoggedIn = true;\nlet hasAdminAccess = false;\n\nif (isLoggedIn) {\n  console.log(\"Welcome to the site!\");\n  \n  // Check if the user has admin access\n  if (hasAdminAccess) {\n    console.log(\"You have admin access.\");\n  } else {\n    console.log(\"You are logged in, but you don't have admin access.\");\n  }\n  \n} else {\n  console.log(\"Please log in to access the site.\");\n}\n",
=======
      "application/javascript": "\n//You can change this booleans. try out more!\nlet isLoggedIn = true;\nlet hasAdminAccess = false;\nlet amal = false;\nlet theGoodsAccess = false;\n\nif (amal) {\n  console.log(\"Amal detected. No gummies. Get out.\")\n}\nelse {\n  if (isLoggedIn) {\n    console.log(\"Welcome to the site!\");\n\n    // Check if the user has admin access\n    if (hasAdminAccess) {\n      console.log(\"You have admin access.\");\n      if (theGoodsAccess) {\n        console.log(\"why did u turned this on u freaky fuck\")\n      }\n      else {\n        console.log(\"'the_goods' folder is locked.\")\n      }\n    }\n    else {\n      console.log(\"You are logged in, but you don't have admin access.\");\n    }\n    }\n  else {\n    console.log(\"Please log in to access the site.\");\n  }\n}\n",
>>>>>>> 68c5854 (boolean changed)
=======
      "application/javascript": "\n//You can change this booleans. try out more!\nlet isLoggedIn = false\nlet hasAdminAccess = false\nlet amal = false;\n\nif (amal) {\n  console.log(\"Amal detected. No gummies. Get out.\")\n}\nelse {\n  if (isLoggedIn) {\n    console.log(\"Welcome to the site!\");\n\n    // Check if the user has admin access\n    if (hasAdminAccess) {\n      console.log(\"You have admin access.\");\n    }\n    else {\n      console.log(\"You are logged in, but you don't have admin access.\");\n    }\n  }\n  else {\n    console.log(\"Please log in to access the site.\");\n  }\n}\n",
>>>>>>> bb6f73b (homework done)
      "text/plain": [
       "<IPython.core.display.Javascript object>"
      ]
     },
     "metadata": {},
     "output_type": "display_data"
    }
   ],
   "source": [
    "%%js\n",
<<<<<<< HEAD
=======
    "\n",
    "//You can change this booleans. try out more!\n",
<<<<<<< HEAD
>>>>>>> 68c5854 (boolean changed)
    "let isLoggedIn = true;\n",
    "let hasAdminAccess = false;\n",
    "let amal = false;\n",
=======
    "let isLoggedIn = false\n",
    "let hasAdminAccess = false\n",
    "let amal = false\n",
>>>>>>> bb6f73b (homework done)
    "\n",
    "if (amal) {\n",
    "  console.log(\"Amal detected. No gummies. Get out.\")\n",
    "}\n",
    "else {\n",
    "  if (isLoggedIn) {\n",
    "    console.log(\"Welcome to the site!\");\n",
    "\n",
    "    // Check if the user has admin access\n",
    "    if (hasAdminAccess) {\n",
    "      console.log(\"You have admin access.\");\n",
    "    }\n",
    "    else {\n",
    "      console.log(\"You are logged in, but you don't have admin access.\");\n",
    "    }\n",
    "  }\n",
    "  else {\n",
    "    console.log(\"Please log in to access the site.\");\n",
    "  }\n",
    "}\n"
   ]
  }
 ],
 "metadata": {
  "kernelspec": {
   "display_name": "venv",
   "language": "python",
   "name": "python3"
  },
  "language_info": {
   "codemirror_mode": {
    "name": "ipython",
    "version": 3
   },
   "file_extension": ".py",
   "mimetype": "text/x-python",
   "name": "python",
   "nbconvert_exporter": "python",
   "pygments_lexer": "ipython3",
   "version": "3.10.12"
  }
 },
 "nbformat": 4,
 "nbformat_minor": 2
}
