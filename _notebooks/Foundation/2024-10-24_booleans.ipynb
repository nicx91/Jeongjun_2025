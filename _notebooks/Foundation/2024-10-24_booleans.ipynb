{
 "cells": [
  {
   "cell_type": "markdown",
   "metadata": {},
   "source": [
    "# Javascript Booleans\n",
    "#### NO MORE GUMMIES FOR AMAL\n",
    "<hr>\n"
   ]
  },
  {
   "cell_type": "markdown",
   "metadata": {},
   "source": [
    "## Introduction\n",
    "Relational operators in JavaScript are used to compare two values, returning a Boolean value (true or false) based on the relationship. Relational operators are extremley similar to math functions such as less than or equal too."
   ]
  },
  {
   "cell_type": "markdown",
   "metadata": {},
   "source": [
    "## Relational Operators\n",
    "##### These codes determine the true or false\n",
    "- ==: Equal to, checks if two values are the same (e.g., verifying a password match).\n",
    "\n",
    "- !=: Not equal to, checks if two values are different (e.g., ensuring input changes).\n",
    "\n",
    "- ===: Strict equal to, checks equality and type (e.g., validating exact user ID).\n",
    "\n",
    "- !==: Strict not equal to, checks inequality and type (e.g., ensuring different type or value).\n",
    "\n",
    "- >: Greater than, left value is larger than the right (e.g., comparing scores or ages).\n",
    "\n",
    "- <: Less than, left value is smaller than the right (e.g., setting age limits).\n",
    "\n",
    "- >=: Greater than or equal to, left value is larger or equal (e.g., minimum age validation).\n",
    "\n",
    "- <=: Less than or equal to, left value is smaller or equal (e.g., ensuring max quantity in cart)."
   ]
  },
  {
   "cell_type": "markdown",
   "metadata": {},
   "source": []
  }
 ],
 "metadata": {
  "language_info": {
   "name": "python"
  }
 },
 "nbformat": 4,
 "nbformat_minor": 2
}
