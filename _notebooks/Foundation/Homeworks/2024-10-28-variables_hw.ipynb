{
 "cells": [
  {
   "cell_type": "markdown",
   "metadata": {},
   "source": [
    "# <span style=\"color: lavender; text-shadow: 2px 2px 5px lavender;\">Variables Homework (Show what you know!) </span>\n",
    "\n",
    "### Homework Problem: Understanding JavaScript Variables \n",
    "\n",
    "### <span style=\"color: pink; text-shadow: 2px 2px 5px pink;\"> Creating Variables</span>\n",
    "\n",
    "\n",
    "1. **Create three variables as an object variable**:\n",
    "   - A variable called `studentName` that stores your name as a string.\n",
    "   - A variable called `age` that stores your age as a number.\n",
    "   - A variable called `isStudent` that stores a boolean value indicating whether you are a student (use `true` or `false`).\n",
    "\n",
    "   2. **Create a function variable that displays that your favorite song is playing**:\n",
    "   \n",
    "      - A variable called `favoriteSong` that stores the name of your favorite song.\n",
    "      - A variable called `songArtist` that stores the song's artist.\n",
    "      - A function called `playFavoriteSong` that logs a message saying \"Now playing [favoriteSong] by [songArtist]\".\n",
    "\n",
    "\n",
    "\n",
    "3. **Using the variables you created**, write a sentence using `console.log()` to display:\n",
    "   - Your name.\n",
    "   - Your age.\n",
    "   - Whether you are a student.\n",
    "   - An output that states that your favorite song is now playing\n",
    "\n",
    "\n",
    "   Example output:\n",
    "My name is [Your Name], I am [Your Age] years old, and it is [true/false] that I am a student. \n",
    "Now playing Champion by Kanye West"
   ]
  },
  {
   "cell_type": "code",
   "execution_count": 22,
   "metadata": {},
   "outputs": [
    {
     "data": {
      "application/javascript": "\nlet studentName = \"Jeongjun\"\nlet age = 15\nlet isStudent = false\n\nlet worstSong = \"thick of it\"\nlet songArtist = \"ksi\"\nlet playWorstSong = false\n\nconsole.log(\"Welcome \" + studentName)\nconsole.log(\"Here is your information:\")\nconsole.log(\"User Name: \" + studentName)\nconsole.log(\"User Age: \" + age)\n\nif (isStudent) {\n    console.log(\"User Status: Student\");\n} else {\n    console.log(\"student Status: guest\");\n}\n\nif (playWorstSong) {\n    console.log(\"Currently playing \" + worstSong + \" by \" + songArtist);\n} else {\n    console.log(\"The song is paused. change settings for resume the song.\");\n}\n",
      "text/plain": [
       "<IPython.core.display.Javascript object>"
      ]
     },
     "metadata": {},
     "output_type": "display_data"
    }
   ],
   "source": [
    "%%js\n",
    "\n",
    "let studentName = \"Jeongjun\"\n",
    "let age = 15\n",
    "let isStudent = false\n",
    "\n",
    "let worstSong = \"thick of it\"\n",
    "let songArtist = \"ksi\"\n",
    "let playWorstSong = false\n",
    "\n",
    "console.log(\"Welcome \" + studentName)\n",
    "console.log(\"Here is your information:\")\n",
    "console.log(\"User Name: \" + studentName)\n",
    "console.log(\"User Age: \" + age)\n",
    "\n",
    "if (isStudent) {\n",
    "    console.log(\"User Status: Student\");\n",
    "} else {\n",
    "    console.log(\"student Status: guest\");\n",
    "}\n",
    "\n",
    "if (playWorstSong) {\n",
    "    console.log(\"Currently playing \" + worstSong + \" by \" + songArtist);\n",
    "} else {\n",
    "    console.log(\"The song is paused. change settings for resume the song.\");\n",
    "}"
   ]
  }
 ],
 "metadata": {
  "kernelspec": {
   "display_name": "venv",
   "language": "python",
   "name": "python3"
  },
  "language_info": {
   "codemirror_mode": {
    "name": "ipython",
    "version": 3
   },
   "file_extension": ".py",
   "mimetype": "text/x-python",
   "name": "python",
   "nbconvert_exporter": "python",
   "pygments_lexer": "ipython3",
   "version": "3.10.12"
  }
 },
 "nbformat": 4,
 "nbformat_minor": 2
}
